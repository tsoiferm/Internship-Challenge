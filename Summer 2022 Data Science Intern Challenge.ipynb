{
 "cells": [
  {
   "cell_type": "code",
   "execution_count": 28,
   "id": "8f74ddf0",
   "metadata": {},
   "outputs": [],
   "source": [
    "import pandas as pd\n",
    "dataset = pd.read_csv(\"C:/Users/twsoi/OneDrive - stevens.edu/Personal Projects/2019 Winter Data Science Intern Challenge Data Set - Sheet1.csv\")"
   ]
  },
  {
   "cell_type": "code",
   "execution_count": 37,
   "id": "2514df6b",
   "metadata": {},
   "outputs": [
    {
     "data": {
      "text/plain": [
       "<AxesSubplot:>"
      ]
     },
     "execution_count": 37,
     "metadata": {},
     "output_type": "execute_result"
    },
    {
     "data": {
      "image/png": "[encoded data removed]",
      "text/plain": [
       "<Figure size 432x288 with 1 Axes>"
      ]
     },
     "metadata": {
      "needs_background": "light"
     },
     "output_type": "display_data"
    }
   ],
   "source": [
    "import matplotlib.pyplot as plt\n",
    "dataset.boxplot(column=['order_amount'],grid=False)"
   ]
  },
  {
   "cell_type": "markdown",
   "id": "701a4191",
   "metadata": {},
   "source": [
    "Question 1:\n",
    "Part a.\n",
    "As shown in the above boxplot, there are order amounts that are outliers in this data, i.e. sneakers bought in bulk, thus skewing up the AOV."
   ]
  },
  {
   "cell_type": "markdown",
   "id": "089c5e14",
   "metadata": {},
   "source": [
    "Part b.\n",
    "In this situation, it would be best to choose a different measure of central tendency, such as the mode."
   ]
  },
  {
   "cell_type": "code",
   "execution_count": 40,
   "id": "28e3df17",
   "metadata": {},
   "outputs": [
    {
     "data": {
      "text/plain": [
       "[153]"
      ]
     },
     "execution_count": 40,
     "metadata": {},
     "output_type": "execute_result"
    }
   ],
   "source": [
    "dataset['order_amount'].mode().tolist()"
   ]
  },
  {
   "cell_type": "markdown",
   "id": "5a317e3a",
   "metadata": {},
   "source": [
    "Part c.\n",
    "The mode for order amount is $153."
   ]
  },
  {
   "cell_type": "markdown",
   "id": "889766df",
   "metadata": {},
   "source": [
    "# Question 2:\n",
    "Part a.\n",
    "Number of orders shipped by Speedy Express in total: 54\n",
    "\n",
    "SELECT COUNT(*) FROM [Orders] as o \n",
    "JOIN [Shippers] as s \n",
    "ON o.ShipperID = s.ShipperID \n",
    "WHERE o.ShipperID = 1\n",
    "\n",
    "Part b.\n",
    "Last name of the employee w/ the most orders: Peacock (40 orders)\n",
    "\n",
    "SELECT LastName \n",
    "FROM \n",
    "(SELECT COUNT(e.EmployeeID), LastName \n",
    "FROM [Employees] as e \n",
    "JOIN [Orders] as o \n",
    "ON e.EmployeeID = o.EmployeeID \n",
    "GROUP BY LastName \n",
    "ORDER BY COUNT(e.EmployeeID) DESC \n",
    "LIMIT 1)\n",
    "\n",
    "Part c. \n",
    "Product ordered the most by customers in Germany: Boston Crab Meat (160)\n",
    "\n",
    "SELECT ProductName, SUM(Quantity)\n",
    "FROM [Products] as p \n",
    "JOIN OrderDetails as o \n",
    "ON o.ProductID = p.ProductID\n",
    "JOIN Orders as od\n",
    "ON od.OrderID = o.OrderID\n",
    "JOIN Customers as c\n",
    "ON od.CustomerID = c.CustomerID\n",
    "WHERE c.Country = 'Germany'\n",
    "GROUP BY ProductName\n",
    "ORDER BY SUM(Quantity) DESC\n",
    "LIMIT 1"
   ]
  }
 ],
 "metadata": {
  "kernelspec": {
   "display_name": "Python 3",
   "language": "python",
   "name": "python3"
  },
  "language_info": {
   "codemirror_mode": {
    "name": "ipython",
    "version": 3
   },
   "file_extension": ".py",
   "mimetype": "text/x-python",
   "name": "python",
   "nbconvert_exporter": "python",
   "pygments_lexer": "ipython3",
   "version": "3.8.8"
  }
 },
 "nbformat": 4,
 "nbformat_minor": 5
}
